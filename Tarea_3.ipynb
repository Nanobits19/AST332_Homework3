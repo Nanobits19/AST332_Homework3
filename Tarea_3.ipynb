{
 "cells": [
  {
   "cell_type": "markdown",
   "metadata": {
    "id": "ZElDfnRK8C8s"
   },
   "source": [
    "# Tarea 3"
   ]
  },
  {
   "cell_type": "markdown",
   "metadata": {},
   "source": [
    "#### Instrucciones:\n",
    "- La tarea consta de una parte de preguntas y otra de desarrollo de código. Debe entregar todas las respuestas en formato notebook, y cuando la respuesta sea texto, debe hacer en celdas markdown con formato. \n",
    "- La entrega de la Tarea es el día **5 de Noviembre, 23:59 hrs.**"
   ]
  },
  {
   "cell_type": "markdown",
   "metadata": {
    "id": "DBYLmI2E8C80"
   },
   "source": [
    "\n",
    "## Nombre(s):\n",
    "- \n",
    "- "
   ]
  },
  {
   "cell_type": "markdown",
   "metadata": {},
   "source": [
    "## Bosón de Higgs\n",
    "\n",
    "En esta tarea trabajaremos con datos simulados del bosón de Higgs (versión simplificada), del desafío de [Kaggle](https://www.kaggle.com/c/higgs-boson/overview). Los archivos son Higgs_features.csv y Higgs_labels.csv. Las etiquetas son 0 (no hay señal de Higgs) y 1 (señal de Higgs). Los features son similares a los vistos en el set que utilizamos en clases, tales como energía faltantes, energía, momentum, rapidez transversal y azimutal, etc. Puede encontrar más detalles [acá](https://higgsml.lal.in2p3.fr/files/2014/04/documentation_v1.8.pdf). Note que el set de datos para esta tarea es una versión simplificada."
   ]
  },
  {
   "cell_type": "markdown",
   "metadata": {},
   "source": [
    "**1. Lea los datos en dos dataframes o arreglos de numpy, uno para features y otro para etiquetas**"
   ]
  },
  {
   "cell_type": "markdown",
   "metadata": {},
   "source": [
    "**2. ¿Cuántas instancias y características hay en el set de datos?**"
   ]
  },
  {
   "cell_type": "markdown",
   "metadata": {},
   "source": [
    "**3. Haga un gráfico de la distribución (histograma) de cada feature en el set de datos, en un sólo gráfico. Agregue una leyenda con las etiquetas (Feature 1, Feature 2....etc.) y fije la transparencia de los histogramas (parámetro alpha) en 0.5 para que se noten mejor.** "
   ]
  },
  {
   "cell_type": "markdown",
   "metadata": {
    "id": "5MO7-vVC8C82"
   },
   "source": [
    "**4. Observa algo inusual en la distribución de alguna de las features? Qué puede causar este problema?**"
   ]
  },
  {
   "cell_type": "markdown",
   "metadata": {
    "id": "YAkS8pPw8C83"
   },
   "source": [
    "**5\\. ¿Cuántos eventos positivos (Higgs) tiene el data set? Cree que está balanceada la muestra?**"
   ]
  },
  {
   "cell_type": "markdown",
   "metadata": {
    "id": "zNQZqNS88C83"
   },
   "source": [
    "**6\\. En base a su respuesta de la pregunta 5, qué métrica de evaluación (accuracy, precision o recall), escogería para este set de datos?**"
   ]
  },
  {
   "cell_type": "markdown",
   "metadata": {
    "id": "LC-LrvgH8C86"
   },
   "source": [
    "**7\\.  Use un clasificador de árbol de decisión y haga validación cruzada en sus datos, usando la métrica que escogió. Reporte el promedio y desviación estándar de los scores obtenidos de los cinco folds**\n",
    "\n",
    "Recuerde usar StratifiedKFold, que incluya shuffle=True, para asegurar que los datos no estén en un orden específico\n",
    "\n"
   ]
  },
  {
   "cell_type": "markdown",
   "metadata": {
    "id": "_svBXKhZ8C86"
   },
   "source": [
    "**8\\. Genere las etiquetas predichas usando cross_val_predict, y luego imprima la matriz de confusión**"
   ]
  },
  {
   "cell_type": "markdown",
   "metadata": {
    "id": "nFbAYoj38C88"
   },
   "source": [
    "**9\\. Dada la matriz de confusión, indique los valores de TP, TN, FP, FN. Tiene más errores de FP o FN?**"
   ]
  },
  {
   "cell_type": "markdown",
   "metadata": {
    "id": "dAFpsEn18C89"
   },
   "source": [
    "**10\\. Ahora usemos un clasificador usando SVM. Usando SVC, deje los parámetros del clasificador los que viene por defecto y haga una validación cruzada con k=5 y reporte los scores, como hizo antes con el árbol de decisión. ¿Qué algoritmo tiene mejor performance?\n",
    "Nota: SVMs es un algoritmo lento y puede tomar tiempo este cálculo. Si toma demasiado tiempo, reduzca el número de folds (no menos de 3).**"
   ]
  },
  {
   "cell_type": "markdown",
   "metadata": {
    "id": "6grNjKT_8C89"
   },
   "source": [
    "**11\\. Reporte la matriz de confusión para el algoritmo de SVC. Hay algún cambio de los valores de FP y FN respecto al modelo de árbol de decisión?**"
   ]
  },
  {
   "cell_type": "markdown",
   "metadata": {
    "id": "YZybV1ZY8C89"
   },
   "source": [
    "**12\\. Intente optimizar los parámetros de SVC. Para evitar que tome demasiado tiempo, seleccione solo el primer 5% de los datos (asegúrese de desordenarlos antes)**\n"
   ]
  },
  {
   "cell_type": "markdown",
   "metadata": {
    "id": "Z43IZoEB8C8-"
   },
   "source": [
    "**13\\. Haga un esquema de CV con GridSearch, con los siguientes valores de parámetros:\n",
    "parameters = {'kernel':['linear','rbf'],'C':[1, 10, 100], 'gamma':[0.01, 0.1, 0.5], 'class_weight':[{1:1},{1:3},{1:5}]}**\n",
    "\n",
    "**Recuerde seguir usando la métrica que eligió más arriba.**\n",
    "\n",
    "**Esto tomará tiempo! Fije verbose=2 en GridSearch para monitorear el progreso, y njobs=4 o más para acelerar un poco el proceso.**\n",
    "\n",
    "**Reporte los parámetros y scores del mejor modelo**"
   ]
  },
  {
   "cell_type": "markdown",
   "metadata": {
    "id": "9QMBoPHx8C8-"
   },
   "source": [
    "**14\\. En base a sus resultados, cuál algoritmo de clasificación recomendaría para este problema, árbol de decisión o SVC?**"
   ]
  },
  {
   "cell_type": "code",
   "execution_count": null,
   "metadata": {},
   "outputs": [],
   "source": []
  }
 ],
 "metadata": {
  "colab": {
   "provenance": []
  },
  "kernelspec": {
   "display_name": "Python 3 (ipykernel)",
   "language": "python",
   "name": "python3"
  },
  "language_info": {
   "codemirror_mode": {
    "name": "ipython",
    "version": 3
   },
   "file_extension": ".py",
   "mimetype": "text/x-python",
   "name": "python",
   "nbconvert_exporter": "python",
   "pygments_lexer": "ipython3",
   "version": "3.9.12"
  }
 },
 "nbformat": 4,
 "nbformat_minor": 1
}
